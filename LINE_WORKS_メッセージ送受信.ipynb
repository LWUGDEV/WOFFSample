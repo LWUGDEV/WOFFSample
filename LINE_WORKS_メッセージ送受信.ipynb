{
  "nbformat": 4,
  "nbformat_minor": 0,
  "metadata": {
    "colab": {
      "provenance": [],
      "toc_visible": true,
      "authorship_tag": "ABX9TyPiVYC5eaMzyEN5ZWWMHp7V",
      "include_colab_link": true
    },
    "kernelspec": {
      "name": "python3",
      "display_name": "Python 3"
    },
    "language_info": {
      "name": "python"
    }
  },
  "cells": [
    {
      "cell_type": "markdown",
      "metadata": {
        "id": "view-in-github",
        "colab_type": "text"
      },
      "source": [
        "<a href=\"https://colab.research.google.com/github/LWUGDEV/WOFFSample/blob/main/LINE_WORKS_%E3%83%A1%E3%83%83%E3%82%BB%E3%83%BC%E3%82%B8%E9%80%81%E5%8F%97%E4%BF%A1.ipynb\" target=\"_parent\"><img src=\"https://colab.research.google.com/assets/colab-badge.svg\" alt=\"Open In Colab\"/></a>"
      ]
    },
    {
      "cell_type": "markdown",
      "source": [
        "# Service Account 認証によるトークン生成"
      ],
      "metadata": {
        "id": "UrEEFzN0wSa8"
      }
    },
    {
      "cell_type": "markdown",
      "source": [
        "1. Private Key のアップロード"
      ],
      "metadata": {
        "id": "RHK7fkPYJcDW"
      }
    },
    {
      "cell_type": "code",
      "source": [
        "from google.colab import files\n",
        "\n",
        "uploaded = files.upload()\n",
        "PRIVATE_KEY_PATH = list(uploaded.keys())[0]\n",
        "with open(PRIVATE_KEY_PATH, 'r') as file:\n",
        "    PRIVATE_KEY = file.read()"
      ],
      "metadata": {
        "colab": {
          "base_uri": "https://localhost:8080/",
          "height": 78
        },
        "id": "S6L8jfmRJUkX",
        "outputId": "c682aa76-c04e-41a0-e7b8-5b3a1434352d"
      },
      "execution_count": null,
      "outputs": [
        {
          "output_type": "display_data",
          "data": {
            "text/plain": [
              "<IPython.core.display.HTML object>"
            ],
            "text/html": [
              "\n",
              "     <input type=\"file\" id=\"files-83c20d19-a73f-4338-b1b7-d55f7e4e3361\" name=\"files[]\" multiple disabled\n",
              "        style=\"border:none\" />\n",
              "     <output id=\"result-83c20d19-a73f-4338-b1b7-d55f7e4e3361\">\n",
              "      Upload widget is only available when the cell has been executed in the\n",
              "      current browser session. Please rerun this cell to enable.\n",
              "      </output>\n",
              "      <script>// Copyright 2017 Google LLC\n",
              "//\n",
              "// Licensed under the Apache License, Version 2.0 (the \"License\");\n",
              "// you may not use this file except in compliance with the License.\n",
              "// You may obtain a copy of the License at\n",
              "//\n",
              "//      http://www.apache.org/licenses/LICENSE-2.0\n",
              "//\n",
              "// Unless required by applicable law or agreed to in writing, software\n",
              "// distributed under the License is distributed on an \"AS IS\" BASIS,\n",
              "// WITHOUT WARRANTIES OR CONDITIONS OF ANY KIND, either express or implied.\n",
              "// See the License for the specific language governing permissions and\n",
              "// limitations under the License.\n",
              "\n",
              "/**\n",
              " * @fileoverview Helpers for google.colab Python module.\n",
              " */\n",
              "(function(scope) {\n",
              "function span(text, styleAttributes = {}) {\n",
              "  const element = document.createElement('span');\n",
              "  element.textContent = text;\n",
              "  for (const key of Object.keys(styleAttributes)) {\n",
              "    element.style[key] = styleAttributes[key];\n",
              "  }\n",
              "  return element;\n",
              "}\n",
              "\n",
              "// Max number of bytes which will be uploaded at a time.\n",
              "const MAX_PAYLOAD_SIZE = 100 * 1024;\n",
              "\n",
              "function _uploadFiles(inputId, outputId) {\n",
              "  const steps = uploadFilesStep(inputId, outputId);\n",
              "  const outputElement = document.getElementById(outputId);\n",
              "  // Cache steps on the outputElement to make it available for the next call\n",
              "  // to uploadFilesContinue from Python.\n",
              "  outputElement.steps = steps;\n",
              "\n",
              "  return _uploadFilesContinue(outputId);\n",
              "}\n",
              "\n",
              "// This is roughly an async generator (not supported in the browser yet),\n",
              "// where there are multiple asynchronous steps and the Python side is going\n",
              "// to poll for completion of each step.\n",
              "// This uses a Promise to block the python side on completion of each step,\n",
              "// then passes the result of the previous step as the input to the next step.\n",
              "function _uploadFilesContinue(outputId) {\n",
              "  const outputElement = document.getElementById(outputId);\n",
              "  const steps = outputElement.steps;\n",
              "\n",
              "  const next = steps.next(outputElement.lastPromiseValue);\n",
              "  return Promise.resolve(next.value.promise).then((value) => {\n",
              "    // Cache the last promise value to make it available to the next\n",
              "    // step of the generator.\n",
              "    outputElement.lastPromiseValue = value;\n",
              "    return next.value.response;\n",
              "  });\n",
              "}\n",
              "\n",
              "/**\n",
              " * Generator function which is called between each async step of the upload\n",
              " * process.\n",
              " * @param {string} inputId Element ID of the input file picker element.\n",
              " * @param {string} outputId Element ID of the output display.\n",
              " * @return {!Iterable<!Object>} Iterable of next steps.\n",
              " */\n",
              "function* uploadFilesStep(inputId, outputId) {\n",
              "  const inputElement = document.getElementById(inputId);\n",
              "  inputElement.disabled = false;\n",
              "\n",
              "  const outputElement = document.getElementById(outputId);\n",
              "  outputElement.innerHTML = '';\n",
              "\n",
              "  const pickedPromise = new Promise((resolve) => {\n",
              "    inputElement.addEventListener('change', (e) => {\n",
              "      resolve(e.target.files);\n",
              "    });\n",
              "  });\n",
              "\n",
              "  const cancel = document.createElement('button');\n",
              "  inputElement.parentElement.appendChild(cancel);\n",
              "  cancel.textContent = 'Cancel upload';\n",
              "  const cancelPromise = new Promise((resolve) => {\n",
              "    cancel.onclick = () => {\n",
              "      resolve(null);\n",
              "    };\n",
              "  });\n",
              "\n",
              "  // Wait for the user to pick the files.\n",
              "  const files = yield {\n",
              "    promise: Promise.race([pickedPromise, cancelPromise]),\n",
              "    response: {\n",
              "      action: 'starting',\n",
              "    }\n",
              "  };\n",
              "\n",
              "  cancel.remove();\n",
              "\n",
              "  // Disable the input element since further picks are not allowed.\n",
              "  inputElement.disabled = true;\n",
              "\n",
              "  if (!files) {\n",
              "    return {\n",
              "      response: {\n",
              "        action: 'complete',\n",
              "      }\n",
              "    };\n",
              "  }\n",
              "\n",
              "  for (const file of files) {\n",
              "    const li = document.createElement('li');\n",
              "    li.append(span(file.name, {fontWeight: 'bold'}));\n",
              "    li.append(span(\n",
              "        `(${file.type || 'n/a'}) - ${file.size} bytes, ` +\n",
              "        `last modified: ${\n",
              "            file.lastModifiedDate ? file.lastModifiedDate.toLocaleDateString() :\n",
              "                                    'n/a'} - `));\n",
              "    const percent = span('0% done');\n",
              "    li.appendChild(percent);\n",
              "\n",
              "    outputElement.appendChild(li);\n",
              "\n",
              "    const fileDataPromise = new Promise((resolve) => {\n",
              "      const reader = new FileReader();\n",
              "      reader.onload = (e) => {\n",
              "        resolve(e.target.result);\n",
              "      };\n",
              "      reader.readAsArrayBuffer(file);\n",
              "    });\n",
              "    // Wait for the data to be ready.\n",
              "    let fileData = yield {\n",
              "      promise: fileDataPromise,\n",
              "      response: {\n",
              "        action: 'continue',\n",
              "      }\n",
              "    };\n",
              "\n",
              "    // Use a chunked sending to avoid message size limits. See b/62115660.\n",
              "    let position = 0;\n",
              "    do {\n",
              "      const length = Math.min(fileData.byteLength - position, MAX_PAYLOAD_SIZE);\n",
              "      const chunk = new Uint8Array(fileData, position, length);\n",
              "      position += length;\n",
              "\n",
              "      const base64 = btoa(String.fromCharCode.apply(null, chunk));\n",
              "      yield {\n",
              "        response: {\n",
              "          action: 'append',\n",
              "          file: file.name,\n",
              "          data: base64,\n",
              "        },\n",
              "      };\n",
              "\n",
              "      let percentDone = fileData.byteLength === 0 ?\n",
              "          100 :\n",
              "          Math.round((position / fileData.byteLength) * 100);\n",
              "      percent.textContent = `${percentDone}% done`;\n",
              "\n",
              "    } while (position < fileData.byteLength);\n",
              "  }\n",
              "\n",
              "  // All done.\n",
              "  yield {\n",
              "    response: {\n",
              "      action: 'complete',\n",
              "    }\n",
              "  };\n",
              "}\n",
              "\n",
              "scope.google = scope.google || {};\n",
              "scope.google.colab = scope.google.colab || {};\n",
              "scope.google.colab._files = {\n",
              "  _uploadFiles,\n",
              "  _uploadFilesContinue,\n",
              "};\n",
              "})(self);\n",
              "</script> "
            ]
          },
          "metadata": {}
        },
        {
          "output_type": "stream",
          "name": "stdout",
          "text": [
            "Saving private_20230910070644.key to private_20230910070644 (1).key\n"
          ]
        }
      ]
    },
    {
      "cell_type": "markdown",
      "source": [
        "2. 設定部分"
      ],
      "metadata": {
        "id": "kMFkJpc2JhGV"
      }
    },
    {
      "cell_type": "code",
      "source": [
        "CLIENT_ID = \"i2mhVFCy4l9ovJqWYhUY\"\n",
        "CLIENT_SECRET = \"CpOcZAtbEU\"\n",
        "SCOPE = \"bot\"\n",
        "SERVICE_ACCOUNT = \"xjaht.serviceaccount@lwugdev\"\n"
      ],
      "metadata": {
        "id": "OZAEugK6JfSj"
      },
      "execution_count": null,
      "outputs": []
    },
    {
      "cell_type": "markdown",
      "source": [
        "3. JWTの設定、生成、トークン取得"
      ],
      "metadata": {
        "id": "oLEnRDhVJmO8"
      }
    },
    {
      "cell_type": "code",
      "source": [
        "import jwt\n",
        "import time\n",
        "import json\n",
        "import requests\n",
        "from datetime import datetime, timedelta\n",
        "\n",
        "# JWTのHeaderとPayloadを設定\n",
        "header = {\n",
        "    \"alg\": \"RS256\",\n",
        "    \"typ\": \"JWT\"\n",
        "}\n",
        "\n",
        "# 現在のUTC時刻を取得して、iatとexpを設定\n",
        "current_time = datetime.utcnow()\n",
        "iat = int(time.mktime(current_time.timetuple()))\n",
        "exp = int(time.mktime((current_time + timedelta(hours=1)).timetuple()))\n",
        "\n",
        "payload = {\n",
        "    \"iss\": CLIENT_ID,\n",
        "    \"sub\": SERVICE_ACCOUNT,\n",
        "    \"iat\": iat,\n",
        "    \"exp\": exp\n",
        "}\n",
        "\n",
        "# JWTの生成\n",
        "assertion = jwt.encode(payload, PRIVATE_KEY, algorithm=\"RS256\", headers=header)\n",
        "\n",
        "# POSTリクエストのためのデータを準備\n",
        "data = {\n",
        "    'assertion': assertion,\n",
        "    'grant_type': \"urn:ietf:params:oauth:grant-type:jwt-bearer\",\n",
        "    'client_id': CLIENT_ID,\n",
        "    'client_secret': CLIENT_SECRET,\n",
        "    'scope': SCOPE\n",
        "}\n",
        "\n",
        "headers = {\n",
        "    'Content-Type': 'application/x-www-form-urlencoded'\n",
        "}\n",
        "\n",
        "# API エンドポイントに POST リクエストを送信してトークンを取得\n",
        "response = requests.post('https://auth.worksmobile.com/oauth2/v2.0/token', data=data, headers=headers)\n",
        "\n",
        "# 応答の確認\n",
        "if response.status_code == 200:\n",
        "    token_info = response.json()\n",
        "    access_token = token_info.get('access_token')\n",
        "    print(f\"Access Token: {access_token}\")\n",
        "else:\n",
        "    print(f\"Failed to retrieve token. Status code: {response.status_code}, Response: {response.text}\")"
      ],
      "metadata": {
        "colab": {
          "base_uri": "https://localhost:8080/"
        },
        "id": "Fk85abdI0H0V",
        "outputId": "840031ff-9282-4ad7-a8fb-79ac0ccb12e1"
      },
      "execution_count": null,
      "outputs": [
        {
          "output_type": "stream",
          "name": "stdout",
          "text": [
            "Access Token: jp1AAABHSrSkhtD95XnoGIDswHbHkguZsDAE+zI0JAgdSZjyBstlwHnI8DpxDMfikEfWElU2WE1bLyhc/ouXAJB0HBfRSvL2eLZxMI4lVDWdIrNICwD9q7a0lDOX7Ck+q8vR1Rv1ldr4M8ASR5O2tFNBEA2/z7FIKuAw6OuTFnh6xpdi0W/QdqOTHzRjhJWvXkEkvrC9iX94Slr3DM83EOxDOGBV6SDvb7rXT7MX96knkzh+s49TvRlvU+IG8y5qEKOl3IB2FnNz/wjM2y+FUQuW2zAebXLwvCqpuDahQa5HRx+IMrT+YHzwAz3oqa1mrOVEehCbWvLO3gI1cwR8xRwwWtL7/XLYqC/8ePUcgG6wQFC25ryo8JMhaIWgKPAdQH8bKcV5Q==.kwiu9yNovfcs8Rumz2QSOg\n"
          ]
        }
      ]
    },
    {
      "cell_type": "markdown",
      "source": [
        "# LINE WORKS の Bot からメッセージを送信"
      ],
      "metadata": {
        "id": "MeFg_FWBNyCy"
      }
    },
    {
      "cell_type": "markdown",
      "source": [],
      "metadata": {
        "id": "L2_1r-2Mal9h"
      }
    },
    {
      "cell_type": "markdown",
      "source": [
        "メッセージ送信"
      ],
      "metadata": {
        "id": "SYtkwyBnKMot"
      }
    },
    {
      "cell_type": "code",
      "source": [
        "import json\n",
        "import requests\n",
        "\n",
        "# 上のセルで取得したトークン\n",
        "TOKEN = token_info.get('access_token')\n",
        "\n",
        "# 設定情報\n",
        "BOT_ID = '6264248'  # 例: '2000001'\n",
        "USER_ID = 'iwaoh@lwugdev'  # 例: 'userf7da-f82c-4284-13e7-030f3b4c756x'\n",
        "\n",
        "API_URL = f'https://www.worksapis.com/v1.0/bots/{BOT_ID}/users/{USER_ID}/messages'\n",
        "\n",
        "headers = {\n",
        "    'Content-Type': 'application/json',\n",
        "    'Authorization': f'Bearer {TOKEN}'\n",
        "}\n",
        "\n",
        "# メッセージの内容を定義\n",
        "data = {\n",
        "    \"content\": {\n",
        "        \"type\": \"text\",\n",
        "        \"text\": \"Hello from LINE Works bot!\"\n",
        "    }\n",
        "}\n",
        "\n",
        "response = requests.post(API_URL, headers=headers, data=json.dumps(data))\n",
        "\n",
        "# 応答の確認\n",
        "if response.status_code == 201:\n",
        "    print(\"Message sent successfully!\")\n",
        "else:\n",
        "    print(f\"Failed to send message. Status code: {response.status_code}, Response: {response.text}\")\n"
      ],
      "metadata": {
        "colab": {
          "base_uri": "https://localhost:8080/"
        },
        "id": "tv4UXah7_npZ",
        "outputId": "795ce5da-9c5c-4202-bec3-737b693ca95c"
      },
      "execution_count": null,
      "outputs": [
        {
          "output_type": "stream",
          "name": "stdout",
          "text": [
            "Message sent successfully!\n"
          ]
        }
      ]
    },
    {
      "cell_type": "markdown",
      "source": [
        "# LINE WORKS の Bot でメッセージ受信"
      ],
      "metadata": {
        "id": "fXRL5uQqT8AJ"
      }
    },
    {
      "cell_type": "code",
      "source": [
        "!pip uninstall flask-ngrok -y"
      ],
      "metadata": {
        "colab": {
          "base_uri": "https://localhost:8080/"
        },
        "id": "myKk9p54132q",
        "outputId": "c68bcad8-84ce-4178-da82-fd8bdc69c73c"
      },
      "execution_count": null,
      "outputs": [
        {
          "output_type": "stream",
          "name": "stdout",
          "text": [
            "Found existing installation: flask-ngrok 0.0.25\n",
            "Uninstalling flask-ngrok-0.0.25:\n",
            "  Successfully uninstalled flask-ngrok-0.0.25\n"
          ]
        }
      ]
    },
    {
      "cell_type": "code",
      "source": [
        "!pip install flask-ngrok"
      ],
      "metadata": {
        "colab": {
          "base_uri": "https://localhost:8080/",
          "height": 398
        },
        "id": "1gfYK9jH0zC5",
        "outputId": "270d8915-8dfd-4676-8f12-5c5fc21a6e40"
      },
      "execution_count": null,
      "outputs": [
        {
          "output_type": "stream",
          "name": "stdout",
          "text": [
            "Collecting flask-ngrok\n",
            "  Using cached flask_ngrok-0.0.25-py3-none-any.whl (3.1 kB)\n",
            "Requirement already satisfied: Flask>=0.8 in /usr/local/lib/python3.10/dist-packages (from flask-ngrok) (2.2.5)\n",
            "Requirement already satisfied: requests in /usr/local/lib/python3.10/dist-packages (from flask-ngrok) (2.31.0)\n",
            "Requirement already satisfied: Werkzeug>=2.2.2 in /usr/local/lib/python3.10/dist-packages (from Flask>=0.8->flask-ngrok) (2.3.7)\n",
            "Requirement already satisfied: Jinja2>=3.0 in /usr/local/lib/python3.10/dist-packages (from Flask>=0.8->flask-ngrok) (3.1.2)\n",
            "Requirement already satisfied: itsdangerous>=2.0 in /usr/local/lib/python3.10/dist-packages (from Flask>=0.8->flask-ngrok) (2.1.2)\n",
            "Requirement already satisfied: click>=8.0 in /usr/local/lib/python3.10/dist-packages (from Flask>=0.8->flask-ngrok) (8.1.7)\n",
            "Requirement already satisfied: charset-normalizer<4,>=2 in /usr/local/lib/python3.10/dist-packages (from requests->flask-ngrok) (3.2.0)\n",
            "Requirement already satisfied: idna<4,>=2.5 in /usr/local/lib/python3.10/dist-packages (from requests->flask-ngrok) (3.4)\n",
            "Requirement already satisfied: urllib3<3,>=1.21.1 in /usr/local/lib/python3.10/dist-packages (from requests->flask-ngrok) (2.0.4)\n",
            "Requirement already satisfied: certifi>=2017.4.17 in /usr/local/lib/python3.10/dist-packages (from requests->flask-ngrok) (2023.7.22)\n",
            "Requirement already satisfied: MarkupSafe>=2.0 in /usr/local/lib/python3.10/dist-packages (from Jinja2>=3.0->Flask>=0.8->flask-ngrok) (2.1.3)\n",
            "Installing collected packages: flask-ngrok\n",
            "Successfully installed flask-ngrok-0.0.25\n"
          ]
        },
        {
          "output_type": "display_data",
          "data": {
            "application/vnd.colab-display-data+json": {
              "pip_warning": {
                "packages": [
                  "flask_ngrok"
                ]
              }
            }
          },
          "metadata": {}
        }
      ]
    },
    {
      "cell_type": "code",
      "source": [
        "from flask import Flask, request, jsonify\n",
        "from flask_ngrok import run_with_ngrok\n",
        "import threading\n",
        "\n",
        "app = Flask(__name__)\n",
        "run_with_ngrok(app)\n",
        "\n",
        "@app.route('/lineworks', methods=['POST'])\n",
        "def receive_message():\n",
        "    print(\"Received a request!\")  # リクエスト受信をログに記録\n",
        "    data = request.json\n",
        "    print(data)  # 受信データをログに記録\n",
        "    if data['type'] == 'message':\n",
        "        user_id = data['source']['userId']\n",
        "        text = data['content']['text']\n",
        "        print(f\"Message from {user_id}: {text}\")  # メッセージ内容をログに記録\n",
        "        return jsonify(status=\"success\"), 200\n",
        "    return jsonify(status=\"not a message\"), 400\n",
        "\n",
        "\n",
        "\n",
        "def run_on_another_thread():\n",
        "    app.run()\n",
        "\n",
        "threading.Thread(target=run_on_another_thread).start()\n",
        "\n",
        "import time\n",
        "time.sleep(1)\n",
        "\n",
        "# Get all ngrok tunnels\n",
        "tunnels = requests.get(\"http://localhost:4040/api/tunnels\").json()['tunnels']\n",
        "\n",
        "# Extract the HTTPS URL\n",
        "ngrok_https_url = next((tunnel['public_url'] for tunnel in tunnels if tunnel['proto'] == 'https'), None)\n",
        "\n",
        "if not ngrok_https_url:\n",
        "    raise ValueError(\"No HTTPS URL found from ngrok. Make sure ngrok is running properly.\")\n",
        "\n",
        "# Use the `access_token` from the previous cell\n",
        "headers = {\n",
        "    'Authorization': f\"Bearer {access_token}\",\n",
        "    'Content-Type': 'application/json'\n",
        "}\n",
        "\n",
        "data = {\n",
        "  \"callbackUrl\": f\"{ngrok_https_url}/lineworks\"\n",
        "}\n",
        "\n",
        "response = requests.patch('https://www.worksapis.com/v1.0/bots/6264248', headers=headers, json=data)\n",
        "\n",
        "if response.status_code == 200:\n",
        "    print(\"Bot callbackUrl updated successfully!\")\n",
        "else:\n",
        "    print(f\"Failed to update bot callbackUrl. Status code: {response.status_code}, Response: {response.text}\")\n"
      ],
      "metadata": {
        "colab": {
          "base_uri": "https://localhost:8080/"
        },
        "id": "AhQn-_Y-0ZOt",
        "outputId": "f01ab5a8-26c9-44ec-9b1a-a129833d2dcd"
      },
      "execution_count": null,
      "outputs": [
        {
          "output_type": "stream",
          "name": "stdout",
          "text": [
            " * Serving Flask app '__main__'\n",
            " * Debug mode: off\n"
          ]
        },
        {
          "output_type": "stream",
          "name": "stderr",
          "text": [
            "Address already in use\n",
            "Port 5000 is in use by another program. Either identify and stop that program, or start the server with a different port.\n"
          ]
        },
        {
          "output_type": "stream",
          "name": "stdout",
          "text": [
            " * Running on http://2131-34-138-36-55.ngrok.io\n",
            " * Traffic stats available on http://127.0.0.1:4040\n",
            "Bot callbackUrl updated successfully!\n"
          ]
        }
      ]
    },
    {
      "cell_type": "code",
      "source": [
        "import os\n",
        "\n",
        "# ngrokのAUTH TOKENを設定\n",
        "os.environ['NGROK_AUTH_TOKEN'] = '2V96WfmNLN0x5WPmDcHjwXjCAqE_6BdiUnv7ctXdPxe2zvd1T'\n",
        "\n",
        "# ngrokをインストール\n",
        "!pip install pyngrok\n",
        "\n",
        "from pyngrok import ngrok\n"
      ],
      "metadata": {
        "colab": {
          "base_uri": "https://localhost:8080/"
        },
        "id": "h4fGpaKiLuto",
        "outputId": "e40a3767-aba6-4063-ed0a-5893beced27a"
      },
      "execution_count": null,
      "outputs": [
        {
          "output_type": "stream",
          "name": "stdout",
          "text": [
            "Requirement already satisfied: pyngrok in /usr/local/lib/python3.10/dist-packages (6.0.0)\n",
            "Requirement already satisfied: PyYAML in /usr/local/lib/python3.10/dist-packages (from pyngrok) (6.0.1)\n"
          ]
        }
      ]
    },
    {
      "cell_type": "code",
      "source": [
        "ngrok config add-authtoken 2V96WfmNLN0x5WPmDcHjwXjCAqE_6BdiUnv7ctXdPxe2zvd1T"
      ],
      "metadata": {
        "id": "igpDhdHfMXxb",
        "outputId": "7d1bc079-ca2f-4b63-aa17-d3ae445c9810",
        "colab": {
          "base_uri": "https://localhost:8080/",
          "height": 145
        }
      },
      "execution_count": null,
      "outputs": [
        {
          "output_type": "error",
          "ename": "SyntaxError",
          "evalue": "ignored",
          "traceback": [
            "\u001b[0;36m  File \u001b[0;32m\"<ipython-input-29-29f5700d25b5>\"\u001b[0;36m, line \u001b[0;32m1\u001b[0m\n\u001b[0;31m    ngrok config add-authtoken 2V96WfmNLN0x5WPmDcHjwXjCAqE_6BdiUnv7ctXdPxe2zvd1T\u001b[0m\n\u001b[0m                               ^\u001b[0m\n\u001b[0;31mSyntaxError\u001b[0m\u001b[0;31m:\u001b[0m invalid decimal literal\n"
          ]
        }
      ]
    }
  ]
}